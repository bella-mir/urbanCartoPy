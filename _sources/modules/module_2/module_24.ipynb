{
 "cells": [
  {
   "cell_type": "markdown",
   "id": "dee3a3a9",
   "metadata": {},
   "source": [
    "# Task - X\n"
   ]
  },
  {
   "cell_type": "markdown",
   "id": "f55034a1",
   "metadata": {},
   "source": [
    "## Survey - Self Assesment\n",
    "\n",
    "Before starting the task, please complete a short self-assessment survey (under 2 minutes) to see what you’ve learned in this module. It’s identical to the survey you took before.\n",
    "\n",
    "The survey is supposed to be shown below if not, **[click here to take the survey](https://forms.cloud.microsoft/e/MUPMunYJSu)**\n",
    "\n",
    "<iframe width=\"640px\" height=\"480px\" src=\"https://forms.cloud.microsoft/e/MUPMunYJSu\" frameborder=\"0\" marginwidth=\"0\" marginheight=\"0\" style=\"border: none; max-width:100%; max-height:100vh\" allowfullscreen webkitallowfullscreen mozallowfullscreen msallowfullscreen> </iframe>\n"
   ]
  }
 ],
 "metadata": {
  "language_info": {
   "name": "python"
  }
 },
 "nbformat": 4,
 "nbformat_minor": 5
}
