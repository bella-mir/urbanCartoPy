{
 "cells": [
  {
   "cell_type": "markdown",
   "id": "600d4201",
   "metadata": {},
   "source": [
    "## 4. Task - Exploring Landuse\n"
   ]
  },
  {
   "cell_type": "markdown",
   "id": "a4b344af",
   "metadata": {},
   "source": [
    "In this module, we’ve learned how to work with geospatial data in Python and how to retrieve data from OpenStreetMap (OSM).  \n",
    "Now, let’s put these skills into practice by exploring **land use** in a neighborhood or city you're interested in, using OSM data.\n"
   ]
  },
  {
   "cell_type": "markdown",
   "id": "2c33803c",
   "metadata": {},
   "source": [
    "## Suggested Workflow\n"
   ]
  },
  {
   "cell_type": "markdown",
   "id": "6a4380d8",
   "metadata": {},
   "source": [
    "### Step 0: Import libraries\n",
    "\n",
    "Don't forget to import libraries you will use\n"
   ]
  },
  {
   "cell_type": "code",
   "execution_count": null,
   "id": "d53d46e5",
   "metadata": {},
   "outputs": [],
   "source": [
    "import osmnx as ox\n",
    "#more libraries here ..."
   ]
  },
  {
   "cell_type": "markdown",
   "id": "552dd2b2",
   "metadata": {},
   "source": [
    "### Step 1: Choose an area of interest\n",
    "\n",
    "- Pick a city, district, or neighborhood you want to analyze.\n",
    "- You can define it by name (e.g. `\"Saint Petersburg, Russia\"`) or draw/select a polygon manually.\n"
   ]
  },
  {
   "cell_type": "code",
   "execution_count": null,
   "id": "116dec96",
   "metadata": {},
   "outputs": [],
   "source": [
    "#example\n",
    "area_name = \"Leopoldstadt, Vienna, Austria\""
   ]
  },
  {
   "cell_type": "markdown",
   "id": "4b2a6008",
   "metadata": {},
   "source": [
    "### Step 2: Download data from OSM using OSMnx\n",
    "\n",
    "- Use `osmnx.geocode_to_gdf()` to get the boundary of your area (you dont need it fore getting the landuse features, but it might be useful to check if the name of the area is geocoded correctly)\n",
    "- Use `osmnx.features_from_polygon()` or `osmnx.geometries_from_place()` to retrieve **land use** features\n",
    "- For getting landuse features you need to define tags which are based on keys and values of the features - you can find the definition for then [here](https://wiki.openstreetmap.org/wiki/Map_features).\n"
   ]
  },
  {
   "cell_type": "code",
   "execution_count": null,
   "id": "9fee9deb",
   "metadata": {},
   "outputs": [],
   "source": [
    "\n",
    "tags = {'landuse': True}   \n",
    "\n",
    "landuse = ox.features_from_place(area_name, tags)  #in the OSMnx versions before 1.7.0 use ox.geometries.geometries_from_place())\n",
    "\n"
   ]
  },
  {
   "cell_type": "markdown",
   "id": "3ab6467e",
   "metadata": {},
   "source": [
    "### Step 3: Inspect the Data\n",
    "\n",
    "Before diving into analysis, it’s important to **understand what’s in the dataset**.  \n",
    "Let’s take a closer look at the structure and contents of the downloaded OSM data.\n",
    "\n",
    "Here are some key things to check:\n",
    "\n",
    "**Geometry types**\n",
    "\n",
    "- Does the dataset contain only polygons? Or are there also points or lines?\n",
    "- If you're only analyzing land use areas, you'll likely want to **keep only polygons**.\n",
    "\n",
    "**Coordinate Reference System (CRS)**\n",
    "\n",
    "- What CRS is the data using? (e.g., `EPSG:4326`)\n",
    "- If you're planning to measure area or distance, consider reprojecting to a **projected CRS** (like UTM).\n",
    "\n",
    "**Attribute fields and tags**\n",
    "\n",
    "- What columns are available?\n",
    "- Are the `landuse` tags stored in a column like `\"landuse\"` or `\"tags\"`?\n",
    "- Print `.columns`, inspect `.head()`, or use `.info()` to explore the table.\n",
    "\n",
    "**Unique values in key fields**\n",
    "\n",
    "- What land use types are represented? (`gdf[\"landuse\"].unique()` can help.)\n",
    "- Which ones are relevant to your analysis?\n"
   ]
  },
  {
   "cell_type": "markdown",
   "id": "30c4f84d",
   "metadata": {},
   "source": [
    "### Step 4: Clean the data\n",
    "\n",
    "Filter the dataset to keep only relevant land use features and polygon geometries.\n"
   ]
  },
  {
   "cell_type": "code",
   "execution_count": null,
   "id": "d6c6ee69",
   "metadata": {},
   "outputs": [],
   "source": [
    "# Keep only Polygon and MultiPolygon geometries\n",
    "#landuse_poly = ...\n"
   ]
  },
  {
   "cell_type": "markdown",
   "id": "818f7200",
   "metadata": {},
   "source": [
    "### Step 5: Visualize the data\n",
    "\n",
    "Plot the data to get a quick spatial overview and check if the geometries look reasonable.\n",
    "\n",
    "You can use .explore() to create an interactive map — try coloring polygons by land use type with landuse_poly.explore(column=\"landuse\")\n"
   ]
  },
  {
   "cell_type": "code",
   "execution_count": null,
   "id": "7040c548",
   "metadata": {},
   "outputs": [],
   "source": [
    "#landuse_poly.explore(column=\"landuse\")"
   ]
  },
  {
   "cell_type": "markdown",
   "id": "ceeca9b7",
   "metadata": {},
   "source": [
    "### Step 6: Saving to file (optional)\n"
   ]
  },
  {
   "cell_type": "markdown",
   "id": "7ecc8b17",
   "metadata": {},
   "source": [
    "If you want you can save the data to file to continue working with it later (we will continue exploring landuse in the next modules)\n"
   ]
  },
  {
   "cell_type": "code",
   "execution_count": null,
   "id": "9b7baf44",
   "metadata": {},
   "outputs": [],
   "source": [
    "#landuse_poly.to_file(\"path_to_file/osm_landuse.gpkg\")"
   ]
  },
  {
   "cell_type": "markdown",
   "id": "898597d1",
   "metadata": {},
   "source": [
    "### Step 7: Explore and Reflect\n",
    "\n",
    "Take a closer look at the resulting land use map for your chosen area.\n",
    "\n",
    "Ask yourself:\n",
    "\n",
    "- Does the map look complete and accurate?\n",
    "- Are all major land use types (residential, industrial, parks, etc.) represented?\n",
    "- Are there missing areas or unexpected gaps in the data?\n",
    "- If you’re familiar with the city or neighborhood — **does the map match reality?**  \n",
    "  Are certain areas mislabeled, outdated, or missing?\n",
    "\n",
    "You can also compare your results with official planning maps if available.\n",
    "\n",
    "This step is important not only for validating your data, but also for building your **critical thinking** as a spatial analyst.\n"
   ]
  }
 ],
 "metadata": {
  "language_info": {
   "name": "python"
  }
 },
 "nbformat": 4,
 "nbformat_minor": 5
}
