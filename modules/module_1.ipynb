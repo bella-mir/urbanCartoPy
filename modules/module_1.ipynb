{
 "cells": [
  {
   "cell_type": "markdown",
   "id": "ce1166ab",
   "metadata": {},
   "source": [
    "# I. Geospatial Data\n"
   ]
  },
  {
   "cell_type": "markdown",
   "id": "25bb54bf",
   "metadata": {},
   "source": [
    "<p style=\"color:#58568E; font-style:italic\">The module is in progress</p>\n"
   ]
  }
 ],
 "metadata": {
  "language_info": {
   "name": "python"
  }
 },
 "nbformat": 4,
 "nbformat_minor": 5
}
