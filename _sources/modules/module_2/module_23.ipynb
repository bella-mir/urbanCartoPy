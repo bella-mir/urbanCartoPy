{
 "cells": [
  {
   "cell_type": "markdown",
   "id": "c7ea1a87",
   "metadata": {
    "vscode": {
     "languageId": "plaintext"
    }
   },
   "source": [
    "# II.3 Measuring Areas and Distances\n"
   ]
  },
  {
   "cell_type": "markdown",
   "id": "5fa3c923",
   "metadata": {},
   "source": [
    "Understanding how to measure areas and distances is a key part of working with spatial data — and it’s no coincidence that this section comes right after the blocks on coordinate systems.\n",
    "\n",
    "That's because accurate calculations of **distance**, **area**, and even **buffer zones** all depend heavily on the coordinate reference system (CRS) you're using.\n",
    "\n",
    "If your data is in a geographic CRS (like WGS 84), coordinates are expressed in degrees, which are not suitable for direct distance or area calculations.  \n",
    "To get correct results in **meters** or **square meters**, your data needs to be projected into an appropriate **projected CRS**, like UTM.\n",
    "\n",
    "In this section, we’ll explore how to measure distances and areas correctly — and why choosing the right projection is essential.\n"
   ]
  },
  {
   "cell_type": "markdown",
   "id": "d9516650",
   "metadata": {},
   "source": [
    "In GeoPandas, every GeoDataFrame has a special attribute called `.geometry`, which stores the geometric shapes of the spatial features — for example, points, lines, or polygons.  \n",
    "This attribute gives you direct access to the geometry of each object in your dataset.\n",
    "\n",
    "Once you have access to the geometry, you can perform various spatial operations.  \n",
    "One particularly useful method is `.area`, which calculates the **area** of each polygon feature.\n",
    "\n",
    "But here’s an important note: the `.area` method returns correct values **only if** your data is in a **projected CRS** (like UTM), where coordinates are in meters.  \n",
    "If your data is still in degrees (e.g., EPSG:4326), the area values will be meaningless.\n",
    "\n",
    "Now that we’ve reprojected our dataset into a suitable UTM zone, we can safely use the `.area` method to calculate the area of each polygon.\n",
    "\n",
    "Let’s create a new column called `\"area\"` in our `admin_okrug` GeoDataFrame and store the calculated area values there:\n",
    "\n",
    "```python\n",
    "admin_okrug[\"area\"] = admin_okrug.geometry.area\n",
    "```\n"
   ]
  },
  {
   "cell_type": "code",
   "execution_count": null,
   "id": "117f848a",
   "metadata": {
    "vscode": {
     "languageId": "plaintext"
    }
   },
   "outputs": [],
   "source": [
    "admin_border['area'] = admin_border.geometry.area\n",
    "\n",
    "admin_border.head()"
   ]
  },
  {
   "cell_type": "markdown",
   "id": "175fcf08",
   "metadata": {},
   "source": [
    "And here's the problem — the area values look strange and way too small. What's going on?\n",
    "\n",
    "Let’s think back to the coordinate system of this layer... it’s **geographic**, which means the units are in **degrees**, not meters.  \n",
    "As a result, all area calculations are also in degrees² — which isn’t meaningful for real-world measurements.\n",
    "\n",
    "🛑 **Always pay attention to the \"UserWarning\"** you might see when calculating areas (like we did above). It often points out that the results are likely incorrect because the data is still in a geographic CRS. It also reminds you that you need to **reproject** your data to a suitable **projected CRS** to get accurate results.\n"
   ]
  },
  {
   "cell_type": "code",
   "execution_count": null,
   "id": "c4c32633",
   "metadata": {
    "vscode": {
     "languageId": "plaintext"
    }
   },
   "outputs": [],
   "source": [
    "admin_border['area'] = admin_border.geometry.area\n",
    "\n",
    "admin_border.head()"
   ]
  },
  {
   "cell_type": "markdown",
   "id": "0d1efaa0",
   "metadata": {},
   "source": [
    "Now that looks more realistic — and yes, the values are in **square meters**!\n",
    "\n",
    "<p style=\"color:#26528C; font-style:italic\">\n",
    "This kind of notation might not be familiar to everyone, so let’s break it down with an example: </br>\n",
    "`9.292112e+06` means **9.292112 × 10⁶**, or **9,292,112 square meters**, which is the same as **9.3 square kilometers**.\n",
    "</p>\n"
   ]
  },
  {
   "cell_type": "markdown",
   "id": "a6821415",
   "metadata": {},
   "source": [
    "## Summary\n"
   ]
  }
 ],
 "metadata": {
  "language_info": {
   "name": "python"
  }
 },
 "nbformat": 4,
 "nbformat_minor": 5
}
