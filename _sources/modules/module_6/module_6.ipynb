{
 "cells": [
  {
   "cell_type": "markdown",
   "id": "18ae76fd",
   "metadata": {},
   "source": [
    "# VI. Interactive Visualization\n"
   ]
  },
  {
   "cell_type": "markdown",
   "id": "ff0a2d34",
   "metadata": {},
   "source": [
    "# VI. Веб-карта с Folium\n"
   ]
  },
  {
   "cell_type": "markdown",
   "id": "fc75750e",
   "metadata": {},
   "source": [
    "Folium — это библиотека Python для создания интерактивных веб-карт на основе Leaflet.js. С её помощью можно легко визуализировать геопространственные данные, добавлять маркеры, всплывающие подсказки, хлороплетные карты, а также расширять функциональность с помощью плагинов.\n",
    "\n",
    "**Основные возможности Folium**:\n",
    "\n",
    "- Создание интерактивных карт с набором нескольких слоев\n",
    "- Добавление маркеров, кружков, всплывающих подсказок и кластеров\n",
    "- Построение картограмм (Choropleth)\n",
    "- Подключение плагинов (MiniMap, MarkerCluster, HeatMap и др.)\n",
    "\n",
    "В это разделе мы создадим интерактивную карту театров Санкт-Петербурга\n"
   ]
  },
  {
   "cell_type": "markdown",
   "id": "dc74698a",
   "metadata": {},
   "source": [
    "Импортируем библиотеки\n"
   ]
  },
  {
   "cell_type": "code",
   "execution_count": null,
   "id": "411742c8",
   "metadata": {},
   "outputs": [],
   "source": [
    "import folium\n",
    "import geopandas as gpd"
   ]
  },
  {
   "cell_type": "markdown",
   "id": "dfa59ce5",
   "metadata": {},
   "source": [
    "## 0. Подготовка данных\n"
   ]
  },
  {
   "cell_type": "markdown",
   "id": "5f37a36d",
   "metadata": {},
   "source": [
    "Читаем данные\n"
   ]
  },
  {
   "cell_type": "code",
   "execution_count": null,
   "id": "2e572318",
   "metadata": {},
   "outputs": [],
   "source": [
    "theaters = gpd.read_file('data/spb_theaters.geojson')\n",
    "admin_district = gpd.read_file('data/spb_admin.gpkg', layer=\"okrug\")\n"
   ]
  },
  {
   "cell_type": "markdown",
   "id": "21d6118b",
   "metadata": {},
   "source": [
    "Посчитаем кол-во театров по районам города\n"
   ]
  },
  {
   "cell_type": "code",
   "execution_count": null,
   "id": "6d10be34",
   "metadata": {},
   "outputs": [],
   "source": [
    "# приведем данные в одну систему координат\n",
    "if theaters.crs != admin_district.crs:\n",
    "    theaters = theaters.to_crs(admin_district.crs)\n",
    "\n",
    "# Пространственное пересечение\n",
    "theaters_within_district = gpd.sjoin(theaters, admin_district, how=\"left\", predicate=\"within\")\n",
    "\n",
    "# Группировка и подсчёт\n",
    "theaters_count = theaters_within_district.groupby('NAME').size().reset_index(name='theaters_count')\n",
    "\n",
    "# Соединяем данные со слоем с районами по полю  NAME\n",
    "admin_district_with_count = admin_district.merge(\n",
    "    theaters_count,\n",
    "    on='NAME', \n",
    "    how='left'\n",
    ")\n",
    "\n",
    "# Посчитаем кол-во театров на 100 000 ччеловек\n",
    "admin_district_with_count['theatersPerPop'] = admin_district_with_count['theaters_count']/(admin_district_with_count['Popul']/100000)\n",
    "\n",
    "\n",
    "# Поcмотрим на данные\n",
    "admin_district_with_count.head()\n"
   ]
  },
  {
   "cell_type": "markdown",
   "id": "870d21b2",
   "metadata": {},
   "source": [
    "## 1. Настройка карты\n",
    "\n",
    "- Внимательно рассмотрите функцию, попробуйте понять, за что отвечает каждая переменная\n"
   ]
  },
  {
   "cell_type": "code",
   "execution_count": null,
   "id": "bb962900",
   "metadata": {},
   "outputs": [],
   "source": [
    "data = admin_district_with_count.to_crs('EPSG:4326')\n",
    "m = folium.Map(location=[data.centroid.y.mean(), data.centroid.x.mean()], zoom_start=10,  tiles=\"cartodb positron\", control_scale=True)\n"
   ]
  },
  {
   "cell_type": "markdown",
   "id": "4610a715",
   "metadata": {},
   "source": [
    "- Изучите область карты. Понадобятся ли изменения?\n"
   ]
  },
  {
   "cell_type": "code",
   "execution_count": null,
   "id": "c6b04d98",
   "metadata": {},
   "outputs": [],
   "source": [
    "m"
   ]
  },
  {
   "cell_type": "markdown",
   "id": "5a6fc01d",
   "metadata": {},
   "source": [
    "## 2. Добавление картограммы\n"
   ]
  },
  {
   "cell_type": "code",
   "execution_count": null,
   "id": "2bd941e6",
   "metadata": {},
   "outputs": [],
   "source": [
    "folium.Choropleth(\n",
    "    name='Theaters Choropleth',\n",
    "    geo_data=admin_district_with_count,\n",
    "    data=admin_district_with_count,\n",
    "    columns=['NAME', 'theatersPerPop'],\n",
    "    fill_color='YlGnBu',\n",
    "    fill_opacity = 0.5,\n",
    "    key_on='feature.properties.NAME',\n",
    "    nan_fill_color='lightgray',\n",
    "    nan_fill_opacity=0.4,\n",
    "   line_color = \"white\",\n",
    "   legend_name=\"Theaters per 100 000 \"\n",
    ").add_to(m)"
   ]
  },
  {
   "cell_type": "markdown",
   "id": "5aefec24",
   "metadata": {},
   "source": [
    "- Посмотрим на карту\n"
   ]
  },
  {
   "cell_type": "code",
   "execution_count": null,
   "id": "0dc3b306",
   "metadata": {},
   "outputs": [],
   "source": [
    "m"
   ]
  },
  {
   "cell_type": "markdown",
   "id": "0bc0f2af",
   "metadata": {},
   "source": [
    "## 3. Добавление подсказки (tooltip)\n"
   ]
  },
  {
   "cell_type": "code",
   "execution_count": null,
   "id": "2154258b",
   "metadata": {},
   "outputs": [],
   "source": [
    "folium.GeoJson(\n",
    "    admin_district_with_count,\n",
    "    name=\"Districts with tooltips\",\n",
    "    style_function=lambda x: {\n",
    "        'fillColor': 'transparent',\n",
    "        'color': 'transparent',\n",
    "        'weight': 0\n",
    "    },\n",
    "    tooltip=folium.GeoJsonTooltip(\n",
    "        fields=['NAME', 'theaters_count'],\n",
    "        aliases=['Округ:', 'Количество театров:'],\n",
    "        localize=True\n",
    "    )\n",
    ").add_to(m)"
   ]
  },
  {
   "cell_type": "code",
   "execution_count": null,
   "id": "1d1102cd",
   "metadata": {},
   "outputs": [],
   "source": [
    "m"
   ]
  },
  {
   "cell_type": "markdown",
   "id": "0ad93ad7",
   "metadata": {},
   "source": [
    "- Посмотрим на карту\n"
   ]
  },
  {
   "cell_type": "markdown",
   "id": "85dc81c6",
   "metadata": {},
   "source": [
    "## 4. Добавление точек в виде маркеров и их кластеризация\n"
   ]
  },
  {
   "cell_type": "markdown",
   "id": "7686da67",
   "metadata": {},
   "source": [
    "- Импортируем плагин\n"
   ]
  },
  {
   "cell_type": "code",
   "execution_count": null,
   "id": "03328fcf",
   "metadata": {},
   "outputs": [],
   "source": [
    "from folium.plugins import MarkerCluster, FeatureGroupSubGroup\n",
    "\n"
   ]
  },
  {
   "cell_type": "markdown",
   "id": "9eb4bed9",
   "metadata": {},
   "source": [
    "- Добавляем маркеры и возможность их кластеризации\n"
   ]
  },
  {
   "cell_type": "code",
   "execution_count": null,
   "id": "3b06a872",
   "metadata": {},
   "outputs": [],
   "source": [
    "theaters = theaters[~(theaters.geometry.isna() | theaters.is_empty)]\n",
    "\n",
    "# Создаём MarkerCluster и SubGroup\n",
    "marker_cluster = MarkerCluster(name='Theaters').add_to(m)\n",
    "mc1 = FeatureGroupSubGroup(marker_cluster, 'Theaters').add_to(m)\n",
    "\n",
    "# Добавляем каждый театр как Marker\n",
    "for idx, row in theaters.iterrows():\n",
    "    # Координаты\n",
    "    lat = row.geometry.y\n",
    "    lon = row.geometry.x\n",
    "    \n",
    "    # Пример popup: имя театра + адрес\n",
    "    popup_text = row['name']\n",
    "    \n",
    "    # Tooltip при наведении (можно упростить)\n",
    "    tooltip_text = row['name']\n",
    "    \n",
    "    # Маркер с кастомной иконкой\n",
    "    folium.Marker(\n",
    "        location=[lat, lon],\n",
    "        popup=popup_text,\n",
    "        tooltip=tooltip_text,\n",
    "        icon=folium.Icon(icon='heart', prefix='glyphicon', color='darkblue')\n",
    "    ).add_to(mc1)"
   ]
  },
  {
   "cell_type": "markdown",
   "id": "b558526c",
   "metadata": {},
   "source": [
    "- Посмотрим на карту\n"
   ]
  },
  {
   "cell_type": "code",
   "execution_count": null,
   "id": "a70cb720",
   "metadata": {},
   "outputs": [],
   "source": [
    "m"
   ]
  },
  {
   "cell_type": "markdown",
   "id": "5dc64aa4",
   "metadata": {},
   "source": [
    "## 5. Добавление плагинов/виджетов\n"
   ]
  },
  {
   "cell_type": "markdown",
   "id": "d4752d65",
   "metadata": {},
   "source": [
    "- Импортируем плагины\n"
   ]
  },
  {
   "cell_type": "code",
   "execution_count": null,
   "id": "1926ee48",
   "metadata": {},
   "outputs": [],
   "source": [
    "from folium.plugins import MousePosition\n",
    "from folium.plugins import Fullscreen"
   ]
  },
  {
   "cell_type": "markdown",
   "id": "418176ed",
   "metadata": {},
   "source": [
    "- Добавляем контроль слоёв\n"
   ]
  },
  {
   "cell_type": "code",
   "execution_count": null,
   "id": "f9035724",
   "metadata": {},
   "outputs": [],
   "source": [
    "folium.LayerControl().add_to(m)"
   ]
  },
  {
   "cell_type": "markdown",
   "id": "94469518",
   "metadata": {},
   "source": [
    "- Добавлеям координаты курсора\n"
   ]
  },
  {
   "cell_type": "code",
   "execution_count": null,
   "id": "640f29a1",
   "metadata": {},
   "outputs": [],
   "source": [
    "MousePosition().add_to(m)\n"
   ]
  },
  {
   "cell_type": "markdown",
   "id": "91d6abd3",
   "metadata": {},
   "source": [
    "- Добавлеям полноэкранный режим\n"
   ]
  },
  {
   "cell_type": "code",
   "execution_count": null,
   "id": "a82270e9",
   "metadata": {},
   "outputs": [],
   "source": [
    "Fullscreen(\n",
    "    position=\"bottomright\",\n",
    "    title=\"Expand me\",\n",
    "    title_cancel=\"Exit me\",\n",
    "    force_separate_button=True,\n",
    ").add_to(m)"
   ]
  },
  {
   "cell_type": "markdown",
   "id": "70ac3d94",
   "metadata": {},
   "source": [
    "- Смотрим на карту\n"
   ]
  },
  {
   "cell_type": "code",
   "execution_count": null,
   "id": "1a6f73be",
   "metadata": {},
   "outputs": [],
   "source": [
    "m"
   ]
  },
  {
   "cell_type": "markdown",
   "id": "73d4ccf1",
   "metadata": {},
   "source": [
    "## 6. Сохраняем результат\n"
   ]
  },
  {
   "cell_type": "code",
   "execution_count": null,
   "id": "9caf863a",
   "metadata": {},
   "outputs": [],
   "source": [
    "m.save(\"index.html\")"
   ]
  },
  {
   "cell_type": "markdown",
   "id": "daa2ec2f",
   "metadata": {},
   "source": [
    "<p style=\"color:#58568E; font-style:italic\">The module is in progress</p>\n"
   ]
  }
 ],
 "metadata": {
  "language_info": {
   "name": "python"
  }
 },
 "nbformat": 4,
 "nbformat_minor": 5
}
