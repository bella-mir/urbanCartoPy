{
 "cells": [
  {
   "cell_type": "markdown",
   "id": "90176adb",
   "metadata": {},
   "source": [
    "# Reprojecting Data\n"
   ]
  },
  {
   "cell_type": "markdown",
   "id": "fbc318d2",
   "metadata": {},
   "source": [
    "## Estimating UTM\n"
   ]
  },
  {
   "cell_type": "markdown",
   "id": "2354f453",
   "metadata": {},
   "source": [
    "When working with cities or local areas, it's often important to reproject geographic data into a UTM zone.  \n",
    "Why? Because geographic coordinates (latitude and longitude) are not measured in consistent distances — one degree of longitude can mean very different lengths depending on how far you are from the equator.\n",
    "\n",
    "UTM (Universal Transverse Mercator) zones use meters instead of degrees, which makes distance, area, and direction calculations much more accurate for local-scale analysis — like city planning, infrastructure, or urban mapping.\n"
   ]
  },
  {
   "cell_type": "markdown",
   "id": "293a18f9",
   "metadata": {},
   "source": [
    "You can calculate a UTM zone yourself based on a point's coordinates.  \n",
    "To find the **zone number**, you only need the **longitude**.  \n",
    "The **latitude** will tell you whether the point is in the **northern** or **southern** h\n"
   ]
  },
  {
   "cell_type": "code",
   "execution_count": null,
   "id": "323e39f0",
   "metadata": {},
   "outputs": [],
   "source": [
    "def utm_zone(longitude):\n",
    "    zone = int((longitude + 180) / 6) + 1\n",
    "    return zone"
   ]
  },
  {
   "cell_type": "markdown",
   "id": "6cb212b2",
   "metadata": {},
   "source": [
    "**What this function does:**\n",
    "\n",
    "- It calculates the **UTM zone number** based on a given **longitude**.\n",
    "- The Earth is divided into **60 UTM zones**, each 6 degrees of longitude wide.\n",
    "- The formula `int((longitude + 180) / 6) + 1` shifts the longitude range from `[-180, +180]` to `[0, 360]` and then divides it by 6 to find out which zone it belongs to.\n",
    "- The result is rounded down using `int(...)` and adjusted by `+1` because UTM zones are numbered starting from 1 (not 0).\n"
   ]
  },
  {
   "cell_type": "markdown",
   "id": "5607edca",
   "metadata": {},
   "source": [
    "Let’s use our function to check the UTM zone number for a location at 30.33 degrees east longitude.\n"
   ]
  },
  {
   "cell_type": "code",
   "execution_count": null,
   "id": "c4260c3c",
   "metadata": {},
   "outputs": [
    {
     "name": "stdout",
     "output_type": "stream",
     "text": [
      "Номер зоны UTM: 36\n"
     ]
    }
   ],
   "source": [
    "longitude = 30.33  \n",
    "zone = utm_zone(longitude)\n",
    "print(\"Номер зоны UTM:\", zone)"
   ]
  },
  {
   "cell_type": "markdown",
   "id": "9687810d",
   "metadata": {},
   "source": [
    "Actually, the function above was just a fun way to practice writing code — there's a simpler way to solve this task :)\n",
    "\n",
    "If you're working with a dataset, you can easily find the appropriate UTM zone using the `.estimate_utm_crs()` method.\n"
   ]
  },
  {
   "cell_type": "code",
   "execution_count": null,
   "id": "6f2cf783",
   "metadata": {},
   "outputs": [
    {
     "data": {
      "text/plain": [
       "<Derived Projected CRS: EPSG:32636>\n",
       "Name: WGS 84 / UTM zone 36N\n",
       "Axis Info [cartesian]:\n",
       "- E[east]: Easting (metre)\n",
       "- N[north]: Northing (metre)\n",
       "Area of Use:\n",
       "- name: Between 30°E and 36°E, northern hemisphere between equator and 84°N, onshore and offshore. Belarus. Cyprus. Egypt. Ethiopia. Finland. Israel. Jordan. Kenya. Lebanon. Moldova. Norway. Russian Federation. Saudi Arabia. Sudan. Syria. Turkey. Uganda. Ukraine.\n",
       "- bounds: (30.0, 0.0, 36.0, 84.0)\n",
       "Coordinate Operation:\n",
       "- name: UTM zone 36N\n",
       "- method: Transverse Mercator\n",
       "Datum: World Geodetic System 1984 ensemble\n",
       "- Ellipsoid: WGS 84\n",
       "- Prime Meridian: Greenwich"
      ]
     },
     "metadata": {},
     "output_type": "display_data"
    }
   ],
   "source": [
    "admin_border.estimate_utm_crs()"
   ]
  },
  {
   "cell_type": "markdown",
   "id": "88452666",
   "metadata": {},
   "source": [
    "## Reprojecting\n"
   ]
  },
  {
   "cell_type": "markdown",
   "id": "bf77d415",
   "metadata": {},
   "source": [
    "**Reprojecting** means converting spatial data from one coordinate system to another.  \n",
    "In practice, it means **recalculating the coordinates** of each point so they fit a different map projection.\n"
   ]
  },
  {
   "cell_type": "markdown",
   "id": "ad879008",
   "metadata": {},
   "source": [
    "But before reprojecting, we need to decide which coordinate system we want to convert to.  \n",
    "Thanks to the `estimate_utm_crs()` method, we already know the correct CRS for our data.  \n",
    "Let’s save it to a separate variable so we can use it when reprojecting the dataset.\n"
   ]
  },
  {
   "cell_type": "code",
   "execution_count": null,
   "id": "5a9decc0",
   "metadata": {},
   "outputs": [],
   "source": [
    "data_crs = admin_border.estimate_utm_crs()"
   ]
  },
  {
   "cell_type": "markdown",
   "id": "68851d2a",
   "metadata": {},
   "source": [
    "To reproject the data in GeoPandas, we use the `.to_crs()` method.  \n",
    "This function transforms the geometry of the dataset into a new coordinate reference system (CRS).  \n",
    "We simply pass the target CRS (for example, the one returned by `estimate_utm_crs()`) inside the method.\n",
    "\n",
    "It recalculates all coordinate values so that the data aligns correctly in the new projection.\n"
   ]
  },
  {
   "cell_type": "code",
   "execution_count": null,
   "id": "7ac082f9",
   "metadata": {},
   "outputs": [
    {
     "name": "stdout",
     "output_type": "stream",
     "text": [
      "EPSG:32636\n"
     ]
    }
   ],
   "source": [
    "admin_border_utm = admin_border.to_crs(data_crs)\n",
    "print(admin_border_utm.crs)"
   ]
  },
  {
   "cell_type": "markdown",
   "id": "a541af1e",
   "metadata": {},
   "source": [
    "We’ve successfully reprojected our layer into the appropriate UTM zone.  \n",
    "Now, our data is in meters instead of degrees, which makes it much more suitable for performing accurate spatial analysis — such as measuring distances, calculating areas, or working with city-scale infrastructure and planning tasks.\n"
   ]
  },
  {
   "cell_type": "markdown",
   "id": "45b61b0d",
   "metadata": {},
   "source": [
    "## Setting the CRS\n"
   ]
  },
  {
   "cell_type": "markdown",
   "id": "57c3ff6b",
   "metadata": {},
   "source": [
    "### For data without a CRS\n",
    "\n",
    "Sometimes we encounter spatial data that doesn’t have a defined coordinate reference system (CRS).  \n",
    "Let’s look at an example using a CSV file with theater locations in Saint Petersburg.\n",
    "\n",
    "We’ll read the data and create a `GeoDataFrame` from it:\n"
   ]
  },
  {
   "cell_type": "code",
   "execution_count": null,
   "id": "fa628dd0",
   "metadata": {},
   "outputs": [],
   "source": [
    "theaters = pd.read_csv('data/spb_theaters.csv')\n",
    "theaters[['latitude', 'longitude']] = theaters['coord'].str.split(',', expand=True)\n",
    "theaters_gdf = gpd.GeoDataFrame(theaters, geometry=gpd.points_from_xy(theaters['longitude'], theaters['latitude']))"
   ]
  },
  {
   "cell_type": "markdown",
   "id": "8b1e2a17",
   "metadata": {},
   "source": [
    "Let’s check the coordinate reference system of `theaters_gdf`:\n"
   ]
  },
  {
   "cell_type": "code",
   "execution_count": null,
   "id": "b536968f",
   "metadata": {},
   "outputs": [],
   "source": [
    "print(theaters_gdf.crs)"
   ]
  },
  {
   "cell_type": "markdown",
   "id": "0bca5056",
   "metadata": {},
   "source": [
    "The result is `None` — that's because we didn’t set a CRS when creating the `GeoDataFrame`.  \n",
    "But sometimes, we simply receive data that comes without a defined CRS.\n",
    "\n",
    "In such cases, we can assign a CRS using one of two approaches:\n",
    "\n",
    "- **Option 1:** Use the `.set_crs()` method\n",
    "- **Option 2:** Directly assign the CRS using the `.crs` attribute\n"
   ]
  },
  {
   "cell_type": "code",
   "execution_count": null,
   "id": "444dbade",
   "metadata": {},
   "outputs": [],
   "source": [
    "theaters_gdf = theaters_gdf.set_crs(epsg=4326) # вариант 1\n",
    "\n",
    "theaters_gdf.crs = \"EPSG:4326\" # вариант 2\n",
    "\n",
    "print(theaters_gdf.crs)"
   ]
  },
  {
   "cell_type": "markdown",
   "id": "75e68e6e",
   "metadata": {},
   "source": [
    "### Setting a CRS vs. Reprojecting\n",
    "\n",
    "**Reprojecting** means converting coordinates from one CRS to another — it changes both the CRS and the actual coordinate values of all geometries in the dataset.\n",
    "\n",
    "In contrast, when we **set a CRS**, no coordinate transformation takes place. We're simply assigning a CRS label to the existing data, telling GeoPandas how to interpret the coordinates that are already there.\n",
    "\n",
    "⚠️ It’s important to know what CRS the coordinates are originally in.  \n",
    "If you assign the wrong CRS, your data might appear in the wrong part of the world — sometimes even on the wrong continent!\n"
   ]
  },
  {
   "cell_type": "markdown",
   "id": "0372ea0d",
   "metadata": {},
   "source": [
    "## Choosing a Map Projection\n",
    "\n",
    "One of the most commonly used projections for GIS projects focused on urban or local-scale data is the **Universal Transverse Mercator (UTM)** projection.  \n",
    "It provides accurate distance and area measurements within each zone, making it ideal for city-level mapping and analysis.\n",
    "\n",
    "For smaller scales — such as mapping all of Russia or the entire world — choosing the right projection becomes more complex.  \n",
    "It largely depends on the geographic extent of your data and the specific goals of your project.\n",
    "\n",
    "A great resource for understanding map projections is the classic 1987 book  \n",
    "**[Map Projections – A Working Manual](https://pubs.usgs.gov/pp/1395/report.pdf)** 📕.  \n",
    "It offers detailed explanations of different projection types, their characteristics, history, and practical use cases.\n"
   ]
  },
  {
   "cell_type": "markdown",
   "id": "1bc8fec4",
   "metadata": {},
   "source": [
    "## Summary\n"
   ]
  }
 ],
 "metadata": {
  "language_info": {
   "name": "python"
  }
 },
 "nbformat": 4,
 "nbformat_minor": 5
}
