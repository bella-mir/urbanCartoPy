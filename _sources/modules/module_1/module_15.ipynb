{
 "cells": [
  {
   "cell_type": "markdown",
   "id": "a713ca15",
   "metadata": {},
   "source": [
    "# Summary\n"
   ]
  },
  {
   "cell_type": "markdown",
   "id": "f9bcce7a",
   "metadata": {},
   "source": [
    "We'd love to hear what you have learned in this module. Filling out the form below will help me in the research and to make this course better\n",
    "\n",
    "<iframe src=\"https://docs.google.com/forms/d/e/1FAIpQLSc8dGm_g33n5vn_bqUj0EFJlOKIEVBMHRtjt8W0Rgykta9CNw/viewform?usp=header\"\n",
    "        width=\"100%\" height=\"900\" frameborder=\"0\" marginheight=\"0\" marginwidth=\"0\">\n",
    "Loading…\n",
    "</iframe>\n"
   ]
  }
 ],
 "metadata": {
  "language_info": {
   "name": "python"
  }
 },
 "nbformat": 4,
 "nbformat_minor": 5
}
