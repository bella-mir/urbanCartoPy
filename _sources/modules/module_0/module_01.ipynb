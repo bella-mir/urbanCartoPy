{
 "cells": [
  {
   "cell_type": "markdown",
   "id": "f4545d98",
   "metadata": {},
   "source": [
    "# Project Overview: 15-Minute City\n",
    "\n",
    "This course is built around the **15-minute city** concept. You won’t just learn the basics of using Python for spatial data analysis and visualization, but **create a small analytical project**, step by step, as you progress through the modules.\n",
    "\n",
    "You'll choose a neighborhood of any city and by the end, you’ll be able to answer the question:\n",
    "_To what extent is the population covered by 15-minute accessibility to all daily needs?_\n",
    "\n",
    "You’ll present your findings through **interactive maps**.\n",
    "\n",
    "## What Is the 15-Minute City?\n",
    "\n",
    "The _15-minute city_ is an urban planning concept where everything you need for daily life — schools, shops, work, parks, healthcare, leisure — can be reached within **15 minutes by walking or cycling**.\n",
    "\n",
    "The goal is to create self-contained communities and by that:\n",
    "\n",
    "- Reduce long commutes and car dependency\n",
    "- Promote walking, cycling, and transit\n",
    "- Strengthen local communities\n",
    "- Make cities healthier and more sustainable\n",
    "\n",
    "The term was popularized in **2016 by Professor Carlos Moreno** in Paris, but the idea is rooted in earlier planning concepts like **Garden Cities** (Ebenezer Howard, 1902) and **Neighborhood Units** (Clarence Perry, 1920s).\n",
    "\n",
    "## How Do We Evaluate It?\n",
    "\n",
    "A key part of turning the 15-minute city from idea into reality is measuring and analyzing accessibility: How close are amenities actually, and who has (or lacks) access?\n",
    "\n",
    "Using open spatial data (e.g., from OpenStreetMap), we can:\n",
    "\n",
    "- Map where services (schools, hospitals, shops, transport) are located\n",
    "- Calculate walking accessibility form them (buffers and isochrones)\n",
    "- Overlay population data to see who has access — and who doesn’t\n",
    "- Visualize findings\n",
    "\n",
    "In this course, each assignment is both a **technical exercise** and a **piece of a bigger project**\n",
    "\n",
    "## Readings & Resources\n",
    "\n",
    "While this project focuses mainly on the **technical side** of spatial data analysis, we also encourage you to explore the broader **urban planning** ideas behind the 15-minute city. The readings below will help you dive deeper into the concept, its history, and real-world applications:\n",
    "\n",
    "1. Moreno, C. et al. (2021). [_Introducing the “15-Minute City”_](https://www.mdpi.com/2624-6511/4/1/93). _Smart Cities_, 4(1), 93–111.\n",
    "2. University of the Built Environment (2024). [_A guide to 15-minute cities: why are they so controversial?_](https://www.theube.com/insights/a-guide-to-15-minute-cities-why-are-they-so-controversial)\n",
    "3. Mastering Public Space (2023). [_Paris’ Vision for a ‘15-Minute City’ Sparks a Global Movement_](https://www.masteringpublicspace.com/paris-vision-for-a-15-minute-city-sparks-a-global-movement/)\n",
    "4. UBE (2024). [_10 examples of 15-minute cities_](https://www.theube.com/insights/a-guide-to-15-minute-cities-why-are-they-so-controversial#10-examples) (Paris, Melbourne, Shanghai, Bogotá, etc.)\n",
    "5. Metwally, E. et al. (2025). _The role of GIS in promoting the 15-minute city concept…_ _Mansoura Engineering Journal, 50_(1). [Article link](https://mej.researchcommons.org/home/vol50/iss1/7)\n",
    "6. Architecture 2030 – 2030 Palette. [_15 Minute City_](https://www.2030palette.org/15-minute-city/)\n",
    "7. Bloomberg CityLab (2023). [_Where the 15-Minute City Falls Short_](https://www.bloomberg.com/news/features/2023-02-17/what-are-15-minute-cities-and-why-is-britain-s-right-so-mad-about-them) (and related articles on debates & controversies).\n",
    "8. France24 (2024). [_Where in the world is closest to becoming a '15-minute city'?_](https://www.france24.com/en/environment/20240305-where-in-the-world-is-closest-to-becoming-a-15-minute-city)\n",
    "\n",
    "[City Access Map](https://www.cityaccessmap.com/) — an interactive map where you can explore the accessibility of services in cities all around the globe\n"
   ]
  }
 ],
 "metadata": {
  "language_info": {
   "name": "python"
  }
 },
 "nbformat": 4,
 "nbformat_minor": 5
}
