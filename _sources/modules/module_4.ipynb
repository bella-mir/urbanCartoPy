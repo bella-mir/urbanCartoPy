{
 "cells": [
  {
   "cell_type": "markdown",
   "id": "23c0303d",
   "metadata": {},
   "source": [
    "# IV. Basics of Network Analysis\n"
   ]
  },
  {
   "cell_type": "markdown",
   "id": "c2370541",
   "metadata": {},
   "source": [
    "<p style=\"color:#58568E; font-style:italic\">The module is in progress</p>\n"
   ]
  }
 ],
 "metadata": {
  "language_info": {
   "name": "python"
  }
 },
 "nbformat": 4,
 "nbformat_minor": 5
}
