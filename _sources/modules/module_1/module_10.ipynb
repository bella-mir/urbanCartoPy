{
 "cells": [
  {
   "cell_type": "markdown",
   "id": "6aa44720",
   "metadata": {},
   "source": [
    "# I. Geospatial Data\n"
   ]
  },
  {
   "cell_type": "markdown",
   "id": "a8c994cd",
   "metadata": {},
   "source": [
    "**Data is fundamental to cartography and geospatial analysis.**\n",
    "\n",
    "This short course we’ll begin by exploring the nature of the data we work with. You’ll learn about spatial data models, how to read data from your local machine, how to create spatial data from coordinates, and how to work with OpenStreetMap (OSM) — one of the most popular open data sources.\n",
    "\n",
    "This lesson includes:\n",
    "\n",
    "1. [**Spatial Data Models**](module_11.ipynb)\n",
    "\n",
    "   Learn about geometric objects — points, lines, and polygons.\n",
    "\n",
    "2. [**Reading Spatial Data**](module_12.ipynb)\n",
    "\n",
    "   Discover how to read data from different formats and file types using Python libraries like GeoPandas.\n",
    "\n",
    "3. [**Exporting OSM Data**](module_13.ipynb)\n",
    "\n",
    "   Learn how to access and export OpenStreetMap data directly within your Jupyter Notebook.\n"
   ]
  },
  {
   "cell_type": "markdown",
   "id": "b1dc3b9d",
   "metadata": {},
   "source": [
    "## Learning Goals\n"
   ]
  },
  {
   "cell_type": "markdown",
   "id": "3d5b6ff8",
   "metadata": {},
   "source": [
    "**After this lesson, you should be able to:**\n",
    "\n",
    "- **Identify the main types of geometric objects** used in spatial data models, including Points, LineStrings, and Polygons, and understand their characteristics and typical use cases.\n",
    "\n",
    "- **Create and manipulate geometric objects using the Shapely library**, including how to construct geometries from scratch, combine or modify them, and perform basic spatial operations (e.g. buffering, measuring distance).\n",
    "\n",
    "- **Read spatial coordinate data from various file formats** (such as CSV or GeoJSON), extract coordinate values, and programmatically create Point geometries based on this data.\n"
   ]
  }
 ],
 "metadata": {
  "language_info": {
   "name": "python"
  }
 },
 "nbformat": 4,
 "nbformat_minor": 5
}
