{
 "cells": [
  {
   "cell_type": "markdown",
   "id": "f3a5c531",
   "metadata": {},
   "source": [
    "# II. Projections and coordinates reference systems\n"
   ]
  },
  {
   "cell_type": "markdown",
   "id": "eb224932",
   "metadata": {},
   "source": [
    "<p style=\"color:#58568E; font-style:italic\">The module is in progress</p>\n"
   ]
  }
 ],
 "metadata": {
  "language_info": {
   "name": "python"
  }
 },
 "nbformat": 4,
 "nbformat_minor": 5
}
