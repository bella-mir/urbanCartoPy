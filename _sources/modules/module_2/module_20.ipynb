{
 "cells": [
  {
   "cell_type": "markdown",
   "id": "383a1437",
   "metadata": {},
   "source": [
    "# II. Projections and Coordinates Reference Systems\n"
   ]
  },
  {
   "cell_type": "markdown",
   "id": "29701d40",
   "metadata": {
    "vscode": {
     "languageId": "plaintext"
    }
   },
   "source": [
    "**Understanding coordinate systems and projections is essential for accurate spatial analysis.**\n",
    "\n",
    "In this module, you'll learn what coordinate reference systems (CRS) are, why projections matter, and how to work with them in Python. We'll explore how to check, change, and choose the right CRS for your data — an important step for ensuring correct measurements and overlays in maps.\n",
    "\n",
    "This lesson includes:\n",
    "\n",
    "1. [**Introduction to Projections and Coordinate Systems**](module_21.ipynb)\n",
    "\n",
    "   Learn the basics of geographic and projected coordinate systems, and how to inspect CRS information in spatial datasets.\n",
    "\n",
    "2. [**Reprojecting Data**](module_22.ipynb)\n",
    "\n",
    "   Practice changing the CRS of a GeoDataFrame and learn how to determine the appropriate **UTM zone** for your area of interest.\n",
    "\n",
    "3. [**Measuring Areas and Distances**](module_23.ipynb)\n",
    "\n",
    "   Understand how projections affect spatial measurements and learn to calculate accurate **areas** and **distances** in meters using projected data.\n"
   ]
  },
  {
   "cell_type": "markdown",
   "id": "0c4d2a50",
   "metadata": {},
   "source": [
    "## Learning Goals\n",
    "\n",
    "**After this lesson, you should be able to:**\n",
    "\n",
    "- **Understand the difference between geographic and projected coordinate systems**, and explain why projections are important for spatial accuracy.\n",
    "\n",
    "- **Inspect and modify the coordinate reference system (CRS)** of a spatial dataset using GeoPandas, and identify the CRS used in your data.\n",
    "\n",
    "- **Determine the appropriate UTM zone** for a given location and reproject spatial data into a suitable projected CRS.\n",
    "\n",
    "- **Accurately measure distances and areas** by reprojecting data into a metric CRS and applying built-in geometry methods in GeoPandas.\n"
   ]
  }
 ],
 "metadata": {
  "language_info": {
   "name": "python"
  }
 },
 "nbformat": 4,
 "nbformat_minor": 5
}
