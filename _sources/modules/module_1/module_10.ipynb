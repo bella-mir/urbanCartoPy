{
 "cells": [
  {
   "cell_type": "markdown",
   "id": "6aa44720",
   "metadata": {},
   "source": [
    "# Overview - Geospatial Data\n"
   ]
  },
  {
   "cell_type": "markdown",
   "id": "a8c994cd",
   "metadata": {},
   "source": [
    "**Data is fundamental to cartography and geospatial analysis.**\n",
    "\n",
    "This short course we’ll begin by exploring the nature of the data we work with. You’ll learn about spatial data models, how to read data from your local machine, how to create spatial data from coordinates, and how to work with OpenStreetMap (OSM) — one of the most popular open data sources.\n",
    "\n",
    "This module includes:\n",
    "\n",
    "1. [**Spatial Data Models**](module_11.ipynb)\n",
    "\n",
    "   Learn about geometric objects — points, lines, and polygons.\n",
    "\n",
    "2. [**Reading Spatial Data**](module_12.ipynb)\n",
    "\n",
    "   Discover how to read data from different formats and file types using Python libraries like GeoPandas.\n",
    "\n",
    "3. [**Exporting OSM Data**](module_13.ipynb)\n",
    "\n",
    "   Learn how to access and export OpenStreetMap data directly within your Jupyter Notebook.\n",
    "\n",
    "4. [**Task - Exploring Landuse**](module_14.ipynb)\n",
    "\n",
    "   Time to put these skills into practice by exploring **land use** in a neighborhood or city you're interested in, using OSM data.\n"
   ]
  },
  {
   "cell_type": "markdown",
   "id": "3d5b6ff8",
   "metadata": {},
   "source": [
    "## Learning Goals\n",
    "\n",
    "**After this lesson, you should be able to:**\n",
    "\n",
    "- **Understand the structure of spatial data models**, including the use of Points, LineStrings, and Polygons, and explain how they represent real-world geographic features.\n",
    "\n",
    "- **Work with GeoDataFrames in GeoPandas**, including how to load, inspect, and explore spatial datasets.\n",
    "\n",
    "- **Read and interpret spatial datasets** from different formats (e.g. CSV, Shapefile, GeoJSON), and convert tabular coordinate data into geospatial formats using Point geometries.\n",
    "\n",
    "- **Access and extract spatial data from OpenStreetMap (OSM)** using the OSMnx library for specific places and tags (e.g. buildings, roads, cafés).\n"
   ]
  },
  {
   "cell_type": "markdown",
   "id": "2278dc46",
   "metadata": {},
   "source": [
    "## Survey - Self Assesment\n"
   ]
  },
  {
   "cell_type": "markdown",
   "id": "e92e8320",
   "metadata": {},
   "source": [
    "Before each module, we’ll ask a few quick questions (under 2 minutes) to see what you already know. This helps us track progress and tailor upcoming modules for different learner levels.\n",
    "\n",
    "The survey is supposed to be shown below if not, **[click here to take the survey](https://forms.cloud.microsoft/e/E0xD7sykUL)**\n",
    "\n",
    "<iframe width=\"640px\" height=\"480px\" src=\"https://forms.cloud.microsoft/e/E0xD7sykUL\" frameborder=\"0\" marginwidth=\"0\" marginheight=\"0\" style=\"border: none; max-width:100%; max-height:100vh\" allowfullscreen webkitallowfullscreen mozallowfullscreen msallowfullscreen> </iframe>\n",
    "\n",
    "Thank you for your time\n"
   ]
  }
 ],
 "metadata": {
  "language_info": {
   "name": "python"
  }
 },
 "nbformat": 4,
 "nbformat_minor": 5
}
