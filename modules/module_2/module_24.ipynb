{
 "cells": [
  {
   "cell_type": "markdown",
   "id": "39a256b1",
   "metadata": {},
   "source": [
    "# Task - Explore Landuse\n"
   ]
  },
  {
   "cell_type": "markdown",
   "id": "384ead52",
   "metadata": {},
   "source": [
    "In this module, we’ve learned how to reproject data between coordinate reference systems (CRSs) and to calculate areas and distances.\n",
    "\n",
    "Now let’s explore **land use** in a neighborhood or city of your choice using OpenStreetMap data.\n"
   ]
  },
  {
   "cell_type": "markdown",
   "id": "f55034a1",
   "metadata": {},
   "source": [
    "## Survey - Self Assesment\n",
    "\n",
    "Before starting the task, please complete a short self-assessment survey (under 2 minutes) to see what you’ve learned in this module. It’s identical to the survey you took before.\n",
    "\n",
    "The survey is supposed to be shown below if not, **[click here to take the survey](https://forms.cloud.microsoft/e/MUPMunYJSu)**\n",
    "\n",
    "<iframe width=\"640px\" height=\"480px\" src=\"https://forms.cloud.microsoft/e/MUPMunYJSu\" frameborder=\"0\" marginwidth=\"0\" marginheight=\"0\" style=\"border: none; max-width:100%; max-height:100vh\" allowfullscreen webkitallowfullscreen mozallowfullscreen msallowfullscreen> </iframe>\n"
   ]
  },
  {
   "cell_type": "markdown",
   "id": "48be143b",
   "metadata": {},
   "source": [
    "## Suggested Workflow\n"
   ]
  },
  {
   "cell_type": "markdown",
   "id": "9b1e768c",
   "metadata": {},
   "source": [
    "### Step 0: Import libraries\n",
    "\n",
    "Don't forget to import libraries you will use\n"
   ]
  },
  {
   "cell_type": "code",
   "execution_count": 1,
   "id": "82279638",
   "metadata": {},
   "outputs": [],
   "source": [
    "import osmnx as ox\n",
    "#more libraries here ..."
   ]
  },
  {
   "cell_type": "markdown",
   "id": "0eba0c02",
   "metadata": {},
   "source": [
    "### Step 1: Choose an area of interest\n",
    "\n",
    "- Define a city, district, or neighborhood you want to analyze\n"
   ]
  },
  {
   "cell_type": "code",
   "execution_count": 2,
   "id": "767e811b",
   "metadata": {},
   "outputs": [],
   "source": [
    "#example\n",
    "area_name = \"Leopoldstadt, Vienna, Austria\""
   ]
  },
  {
   "cell_type": "markdown",
   "id": "4e14ba13",
   "metadata": {},
   "source": [
    "### Step 2: Download data from OSM using OSMnx\n",
    "\n",
    "- Use `ox.geocode_to_gdf()` to get the boundary of your area (you dont need it for getting the landuse features, but it might be useful to check if the name of the area is geocoded correctly)\n",
    "- Use `ox.features_from_place()` to retrieve **land use** features\n",
    "- For getting landuse features you need to define tags which are based on keys and values of the features - you can find the definition for then [here](https://wiki.openstreetmap.org/wiki/Map_features).\n"
   ]
  },
  {
   "cell_type": "code",
   "execution_count": null,
   "id": "3cf22725",
   "metadata": {},
   "outputs": [],
   "source": [
    "area = ox.geocode_to_gdf(area_name)\n",
    "\n",
    "area.explore()\n"
   ]
  },
  {
   "cell_type": "markdown",
   "id": "c7aa99c9",
   "metadata": {},
   "source": [
    "Once you’ve confirmed the area is correct, you can download the land-use data.\n"
   ]
  },
  {
   "cell_type": "markdown",
   "id": "e832becb",
   "metadata": {},
   "source": [
    "tags = {'landuse': True}\n",
    "\n",
    "landuse = ox.features_from_place(area_name, tags)\n"
   ]
  },
  {
   "cell_type": "markdown",
   "id": "7ad18cdb",
   "metadata": {},
   "source": [
    "### Step 3: Inspect the Data\n",
    "\n",
    "Before diving into analysis, it’s important to **understand what’s in the dataset**.  \n",
    "Let’s take a closer look at the structure and contents of the downloaded OSM data.\n",
    "\n",
    "Here are some key things to check:\n",
    "\n",
    "**Geometry types**\n",
    "\n",
    "- Does the dataset contain only polygons? Or are there also points or lines?\n",
    "- If you're only analyzing land use areas, you'll likely want to **keep only polygons**.\n",
    "\n",
    "**Coordinate Reference System (CRS)**\n",
    "\n",
    "- What CRS is the data using? (e.g., `EPSG:4326`)\n",
    "\n",
    "**Attribute fields and tags**\n",
    "\n",
    "- What columns are available?\n",
    "- Are the `landuse` tags stored in a column like `\"landuse\"` or `\"tags\"`?\n",
    "- Print `.columns`, inspect `.head()`, or use `.info()` to explore the table.\n",
    "\n",
    "**Unique values in key fields**\n",
    "\n",
    "- What land use types are represented? (`gdf[\"landuse\"].unique()` can help.)\n"
   ]
  },
  {
   "cell_type": "code",
   "execution_count": null,
   "id": "5c7d110b",
   "metadata": {},
   "outputs": [],
   "source": [
    "#your code is here"
   ]
  },
  {
   "cell_type": "markdown",
   "id": "6da394e4",
   "metadata": {},
   "source": [
    "### Step 4: Clean the data\n",
    "\n",
    "Filter the dataset to keep only relevant land use features and polygon geometries.\n"
   ]
  },
  {
   "cell_type": "code",
   "execution_count": null,
   "id": "2eb977bc",
   "metadata": {},
   "outputs": [],
   "source": [
    "# Keep only Polygon and MultiPolygon geometries\n",
    "#landuse_poly = ..."
   ]
  },
  {
   "cell_type": "markdown",
   "id": "23de47d7",
   "metadata": {},
   "source": [
    "### Step 5: Reproject the Data\n",
    "\n",
    "Reproject the dataset to an suitable UTM zone\n"
   ]
  },
  {
   "cell_type": "code",
   "execution_count": null,
   "id": "cf248727",
   "metadata": {},
   "outputs": [],
   "source": [
    "#landuse_poly_utm = ..."
   ]
  },
  {
   "cell_type": "markdown",
   "id": "2b7e92fa",
   "metadata": {},
   "source": [
    "### Step 6: Calculate areas by land use type\n",
    "\n",
    "Compute polygon areas in a metric CRS (UTM) and aggregate them by the landuse attribute.\n",
    "\n",
    "Export both absolute areas and their proportional shares (% of the total area).\n"
   ]
  },
  {
   "cell_type": "code",
   "execution_count": null,
   "id": "66b92d0b",
   "metadata": {},
   "outputs": [],
   "source": [
    "# landuse_poly_utm['area'] = ...\n",
    "# summary = landuse_utm.groupby('landuse')['area'].sum()"
   ]
  },
  {
   "cell_type": "markdown",
   "id": "1be4ae60",
   "metadata": {},
   "source": [
    "### Step 7: Visualize the results\n",
    "\n",
    "Plot the land-use polygons with different colors, and produce bar charts or pie charts showing the absolute and relative areas of each category.\n"
   ]
  },
  {
   "cell_type": "code",
   "execution_count": null,
   "id": "add82033",
   "metadata": {},
   "outputs": [],
   "source": [
    "#your code is here"
   ]
  },
  {
   "cell_type": "markdown",
   "id": "a34d4ca6",
   "metadata": {},
   "source": [
    "### Step 8: Saving to file (optional)\n"
   ]
  },
  {
   "cell_type": "markdown",
   "id": "0e527dba",
   "metadata": {},
   "source": [
    "If you want you can save the landuse data woith calculated are atrribute to file to continue working with it later\n"
   ]
  },
  {
   "cell_type": "code",
   "execution_count": null,
   "id": "9b2df677",
   "metadata": {},
   "outputs": [],
   "source": [
    "#landuse_poly_utm.to_file(\"path_to_file/osm_landuse.gpkg\")"
   ]
  },
  {
   "cell_type": "markdown",
   "id": "32d6e784",
   "metadata": {},
   "source": [
    "### Step 9: Explore and Reflect\n",
    "\n",
    "Take a closer look at the resulting land use map for your chosen area.\n",
    "\n",
    "Ask yourself:\n",
    "\n",
    "- Does the map look complete and accurate?\n",
    "- Are all major land use types (residential, industrial, parks, etc.) represented?\n",
    "- Are there missing areas or unexpected gaps in the data?\n",
    "- If you’re familiar with the city or neighborhood — **does the map match reality?** Are certain areas mislabeled, outdated, or missing?\n",
    "- Which land-use type(s) dominate? What does that say about the area?\n",
    "\n",
    "You can also compare your results with official planning maps if available.\n",
    "\n",
    "This step is important not only for validating your data, but also for building your **critical thinking** as a spatial analyst.\n"
   ]
  }
 ],
 "metadata": {
  "kernelspec": {
   "display_name": "Python 3",
   "language": "python",
   "name": "python3"
  },
  "language_info": {
   "codemirror_mode": {
    "name": "ipython",
    "version": 3
   },
   "file_extension": ".py",
   "mimetype": "text/x-python",
   "name": "python",
   "nbconvert_exporter": "python",
   "pygments_lexer": "ipython3",
   "version": "3.10.6"
  }
 },
 "nbformat": 4,
 "nbformat_minor": 5
}
