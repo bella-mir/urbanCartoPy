{
 "cells": [
  {
   "cell_type": "markdown",
   "id": "de85da2d",
   "metadata": {},
   "source": [
    "# Task - Collecting data\n"
   ]
  },
  {
   "cell_type": "markdown",
   "id": "05bac568",
   "metadata": {},
   "source": [
    "In this module, we’ve learned how to work with geospatial data in Python and how to retrieve data from OpenStreetMap (OSM).\n",
    "Now, let’s **export the datasets we need for the “15-minute city” analysis.**\n",
    "\n",
    "Ee will collect and save the following layers:\n",
    "\n",
    "- **Public transport stops** — bus, tram, metro, etc.\n",
    "- **Services and amenities**, such as:\n",
    "\n",
    "  - Schools\n",
    "  - Hospitals / clinics\n",
    "  - Shops and supermarkets\n",
    "  - Parks and green areas\n",
    "  - Sports and cultural facilities\n",
    "\n",
    "We will then **compute neighborhood-level accessibility to these services**.\n"
   ]
  },
  {
   "cell_type": "markdown",
   "id": "c5392e4b",
   "metadata": {},
   "source": [
    "## Survey - Self Assesment\n"
   ]
  },
  {
   "cell_type": "markdown",
   "id": "96b506a4",
   "metadata": {},
   "source": [
    "Before starting the task, please complete a short self-assessment survey (under 2 minutes) to see what you’ve learned in this module. It’s identical to the survey you took before.\n",
    "\n",
    "The survey is supposed to be shown below if not, **[click here to take the survey](https://forms.cloud.microsoft/e/9wZhs3QxuL)**\n",
    "\n",
    "<iframe width=\"640px\" height=\"480px\" src=\"https://forms.cloud.microsoft/e/9wZhs3QxuL\" frameborder=\"0\" marginwidth=\"0\" marginheight=\"0\" style=\"border: none; max-width:100%; max-height:100vh\" allowfullscreen webkitallowfullscreen mozallowfullscreen msallowfullscreen> </iframe>\n"
   ]
  },
  {
   "cell_type": "markdown",
   "id": "de216ad2",
   "metadata": {},
   "source": [
    "## Suggested Workflow\n"
   ]
  },
  {
   "cell_type": "markdown",
   "id": "7dba21a4",
   "metadata": {},
   "source": [
    "### Step 0: Import libraries\n",
    "\n",
    "Don't forget to import libraries you will use\n"
   ]
  },
  {
   "cell_type": "code",
   "execution_count": null,
   "id": "81c744a0",
   "metadata": {},
   "outputs": [],
   "source": [
    "import osmnx as ox\n",
    "#more libraries here ..."
   ]
  },
  {
   "cell_type": "markdown",
   "id": "5767f624",
   "metadata": {},
   "source": [
    "### Step 1: Choose an area of interest\n",
    "\n",
    "- Define a city, district, or neighborhood you want to analyze\n"
   ]
  },
  {
   "cell_type": "code",
   "execution_count": null,
   "id": "e0e4c262",
   "metadata": {},
   "outputs": [],
   "source": [
    "#example\n",
    "area_name = \"Leopoldstadt, Vienna, Austria\""
   ]
  },
  {
   "cell_type": "markdown",
   "id": "2e1b03fa",
   "metadata": {},
   "source": [
    "### Step 2: Download data from OSM using OSMnx\n",
    "\n",
    "- Use `ox.geocode_to_gdf()` to get the boundary of your area (you dont need it for getting the landuse features, but it might be useful to check if the name of the area is geocoded correctly)\n",
    "- Use `ox.features_from_place()` to retrieve features. Specify OSM tag filters as key–value pairs; see the [Map Features wiki](https://wiki.openstreetmap.org/wiki/Map_features) for definitions\n"
   ]
  },
  {
   "cell_type": "code",
   "execution_count": null,
   "id": "88845ed1",
   "metadata": {},
   "outputs": [],
   "source": [
    "area = ox.geocode_to_gdf(area_name)\n",
    "area.explore()"
   ]
  },
  {
   "cell_type": "markdown",
   "id": "ec235740",
   "metadata": {},
   "source": [
    "Once you’ve confirmed the area is correct, you can download the data.\n"
   ]
  },
  {
   "cell_type": "code",
   "execution_count": null,
   "id": "fd62a1fc",
   "metadata": {},
   "outputs": [],
   "source": [
    "# example\n",
    "# Public transport stops\n",
    "pt_tags = {\n",
    "    \"highway\": \"bus_stop\",\n",
    "    \"railway\": [\"station\", \"halt\", \"tram_stop\"],\n",
    "    \"public_transport\": [\"platform\", \"stop_position\", \"stop_area\"]\n",
    "}\n",
    "pt_stops = ox.features_from_place(area_name, pt_tags)\n",
    "\n",
    "\n",
    "\n",
    "#Services & amenities\n",
    "#amenity_tags = {...}\n",
    "#amenities = ox.features_from_place(area_name, amenity_tags)\n"
   ]
  },
  {
   "cell_type": "markdown",
   "id": "89f44c4b",
   "metadata": {},
   "source": [
    "### Step 3: Visualize the data\n"
   ]
  },
  {
   "cell_type": "code",
   "execution_count": null,
   "id": "f6a780e1",
   "metadata": {},
   "outputs": [],
   "source": [
    "#pt_stops.explore()"
   ]
  },
  {
   "cell_type": "code",
   "execution_count": null,
   "id": "ed19db17",
   "metadata": {},
   "outputs": [],
   "source": [
    "#amenities.explore()"
   ]
  },
  {
   "cell_type": "markdown",
   "id": "ce8712cf",
   "metadata": {},
   "source": [
    "### Step 4: Clean the data\n",
    "\n",
    "Keep only the attributes and geometry types you need\n"
   ]
  },
  {
   "cell_type": "code",
   "execution_count": null,
   "id": "62861b97",
   "metadata": {},
   "outputs": [],
   "source": [
    "# Keep only Point and MultiPoint geometries\n",
    "#pt_stops_points = ...\n",
    "#amenities_points = ..."
   ]
  },
  {
   "cell_type": "markdown",
   "id": "d3fb2f83",
   "metadata": {},
   "source": [
    "### Step 5: Save to file\n"
   ]
  },
  {
   "cell_type": "markdown",
   "id": "19966265",
   "metadata": {},
   "source": [
    "Save the data as we will use it later\n"
   ]
  },
  {
   "cell_type": "code",
   "execution_count": null,
   "id": "71e1a94d",
   "metadata": {},
   "outputs": [],
   "source": [
    "#pt_stops.to_file(\"path_to_file/osm_pt_stops.gpkg\")\n",
    "#amenities.to_file(\"path_to_file/osm_amenities.gpkg\")"
   ]
  },
  {
   "cell_type": "markdown",
   "id": "c98caa86",
   "metadata": {},
   "source": [
    "### Step 6: Explore and Reflect\n",
    "\n",
    "Take a closer look at the resulting land use map for your chosen area.\n",
    "\n",
    "Ask yourself:\n",
    "\n",
    "- Does the map look complete and accurate?\n",
    "- Are all major land use types (residential, industrial, parks, etc.) represented?\n",
    "- Are there missing areas or unexpected gaps in the data?\n",
    "- If you’re familiar with the city or neighborhood — **does the map match reality?** Are certain areas mislabeled, outdated, or missing?\n",
    "- Which land-use type(s) dominate? What does that say about the area?\n",
    "\n",
    "You can also compare your results with official planning maps if available.\n",
    "\n",
    "This step is important not only for validating your data, but also for building your **critical thinking** as a spatial analyst.\n"
   ]
  }
 ],
 "metadata": {
  "language_info": {
   "name": "python"
  }
 },
 "nbformat": 4,
 "nbformat_minor": 5
}
