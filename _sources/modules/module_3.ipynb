{
 "cells": [
  {
   "cell_type": "markdown",
   "id": "2852f330",
   "metadata": {},
   "source": [
    "# III. Basics of Geospatial Analysis\n"
   ]
  },
  {
   "cell_type": "markdown",
   "id": "4efa99ed",
   "metadata": {},
   "source": [
    "<p style=\"color:#58568E; font-style:italic\">The module is in progress</p>\n"
   ]
  }
 ],
 "metadata": {
  "language_info": {
   "name": "python"
  }
 },
 "nbformat": 4,
 "nbformat_minor": 5
}
