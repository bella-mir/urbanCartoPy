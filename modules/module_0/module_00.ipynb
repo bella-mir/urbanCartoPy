{
 "cells": [
  {
   "cell_type": "markdown",
   "id": "635ceeb8",
   "metadata": {},
   "source": [
    "# Before You Begin\n",
    "\n",
    "Before you begin the course, we kindly ask you to take a moment to complete a short survey (less than 5 minutes).  \n",
    "This will help us better understand your background, current field of work or study, goals, and motivation for taking this course.\n",
    "\n",
    "Your responses will help me to improve the course and get data for the reseach.\n",
    "\n",
    "The survey is supposed to be shown below if not, **[click here to take the survey](https://forms.cloud.microsoft/e/hCiUBiS6nH)**\n",
    "\n",
    "<iframe width=\"640px\" height=\"480px\" src=\"https://forms.cloud.microsoft/Pages/ResponsePage.aspx?id=JGzyIZMHB0unPVY80uwjXzTm0LGJNn5NlQQ-RvVVCwFUOEdIQUVXODY1RzhRQ0w3QVJGRkQ0NzRTRC4u&embed=true\" frameborder=\"0\" marginwidth=\"0\" marginheight=\"0\" style=\"border: none; max-width:100%; max-height:100vh\" allowfullscreen webkitallowfullscreen mozallowfullscreen msallowfullscreen> </iframe>\n",
    "\n",
    "Thank you for your time!\n"
   ]
  }
 ],
 "metadata": {
  "language_info": {
   "name": "python"
  }
 },
 "nbformat": 4,
 "nbformat_minor": 5
}
