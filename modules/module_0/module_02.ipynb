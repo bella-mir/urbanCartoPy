{
 "cells": [
  {
   "cell_type": "markdown",
   "id": "1dda1d4b",
   "metadata": {},
   "source": [
    "# Python in GIS\n"
   ]
  },
  {
   "cell_type": "markdown",
   "id": "6ac74f28",
   "metadata": {},
   "source": [
    "## Why Python?\n",
    "\n",
    "Python helps automate routine data processing tasks, but most importantly, it opens up incredible possibilities for analysis and visualization. It also **democratizes access to data analysis** and offers many advantages:\n",
    "\n",
    "1. **It is free and open-source** – accessible to everyone without expensive licenses.\n",
    "2. **It is highly flexible** and supports a wide range of applications and data formats.\n",
    "3. **Using Jupyter Notebooks makes your work reproducible** and easy to share with others.\n",
    "4. **You can automate routine workflows**, saving time and reducing manual errors.\n",
    "5. **You gain a deeper understanding** of how spatial data is structured and how geoprocessing operations work.\n"
   ]
  },
  {
   "cell_type": "markdown",
   "id": "533d2029",
   "metadata": {},
   "source": [
    "## Learning Outcomes\n",
    "\n",
    "By the end of this course, you will be able to:\n",
    "\n",
    "- **Understand** the fundamental concepts, skills, and tools for spatial data analysis using Python.\n",
    "- Gain an overview of practical Python libraries commonly used in **scientific and professional urban data analysis and visualization**.\n",
    "- Apply Python to solve common spatial data analysis tasks within **real-world urban projects**.\n",
    "- Conduct and automate standard GIS-related tasks while ensuring **clear, reproducible documentation** of your methods.\n",
    "- Complete an integrated **project assessing a city’s accessibility within the 15-minute city concept**, combining all the skills learned throughout the course\n",
    "\n",
    "Specifically, you will be able to do using Python:\n",
    "\n",
    "- Read and write spatial data in various **vector and raster formats**.\n",
    "- Work confidently with **coordinate systems and projections**.\n",
    "- Perform geometric operation\n",
    "- Perform basic **spatial analyses and data processing**.\n",
    "- Visualize your data effectively and create **interactive maps**.\n"
   ]
  },
  {
   "cell_type": "markdown",
   "id": "6de54993",
   "metadata": {},
   "source": [
    "## References and useful links\n",
    "\n",
    "While working on this course, we also reviewed some other available courses on spatial analysis using Python. They can help broaden your skills, and we are providing all the links below\n"
   ]
  },
  {
   "cell_type": "markdown",
   "id": "300f708e",
   "metadata": {},
   "source": [
    "Python Basics\n",
    "\n",
    "- [Python Foundation for Spatial Analysis](https://courses.spatialthoughts.com/python-foundation.html)\n",
    "- [Geo-Python](https://geo-python-site.readthedocs.io/en/latest/)\n",
    "\n",
    "Spatial Data and Python\n",
    "\n",
    "- [GeoSpatial Analysis with Python and R](https://kodu.ut.ee/~kmoch/geopython2023/)\n",
    "- [Geospatial Data Analysis with Python](https://uwgda-jupyterbook.readthedocs.io/en/latest/intro.html)\n",
    "- [Mapping and Data Visualization with Python](https://courses.spatialthoughts.com/python-dataviz.html)\n",
    "- [Geographic Data Science with Python](https://geographicdata.science/book/intro.html)\n"
   ]
  }
 ],
 "metadata": {
  "language_info": {
   "name": "python"
  }
 },
 "nbformat": 4,
 "nbformat_minor": 5
}
