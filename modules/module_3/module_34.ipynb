{
 "cells": [
  {
   "cell_type": "markdown",
   "id": "7fb21410",
   "metadata": {},
   "source": [
    "# Task - Service Accessibility\n"
   ]
  },
  {
   "cell_type": "markdown",
   "id": "75692ef4",
   "metadata": {},
   "source": [
    "In this exercise, you will use **buffering** and **spatial join** to determine which houses are located within 15 minutes of essential services (you сan select one or two types of services).\n"
   ]
  },
  {
   "cell_type": "markdown",
   "id": "fb405835",
   "metadata": {},
   "source": [
    "## Survey - Self Assesment\n",
    "\n",
    "Before starting the task, please complete a short self-assessment survey (under 2 minutes) to see what you’ve learned in this module. It’s identical to the survey you took before.\n",
    "\n",
    "The survey is supposed to be shown below if not, **[click here to take the survey](https://forms.cloud.microsoft/e/vvxLMGNy4j)**\n",
    "\n",
    "<iframe width=\"640px\" height=\"480px\" src=\"https://forms.cloud.microsoft/e/vvxLMGNy4j\" frameborder=\"0\" marginwidth=\"0\" marginheight=\"0\" style=\"border: none; max-width:100%; max-height:100vh\" allowfullscreen webkitallowfullscreen mozallowfullscreen msallowfullscreen> </iframe>\n"
   ]
  },
  {
   "cell_type": "markdown",
   "id": "680d599d",
   "metadata": {},
   "source": [
    "## Suggested Workflow\n"
   ]
  },
  {
   "cell_type": "markdown",
   "id": "976ee884",
   "metadata": {},
   "source": [
    "### Step 0: Import libraries\n",
    "\n",
    "Don't forget to import the necessary libraries.\n"
   ]
  },
  {
   "cell_type": "code",
   "execution_count": null,
   "id": "5339358d",
   "metadata": {},
   "outputs": [],
   "source": [
    "import geopandas as gpd\n",
    "# more libraries here..."
   ]
  },
  {
   "cell_type": "markdown",
   "id": "faa5f51a",
   "metadata": {},
   "source": [
    "### Step 1: Load your datasets\n",
    "\n",
    "- Load a dataset of **houses** (points) in your study area.\n",
    "- Load a dataset of **services** (points), such as schools, hospitals, or other facilities.\n"
   ]
  },
  {
   "cell_type": "code",
   "execution_count": null,
   "id": "5aa1366b",
   "metadata": {},
   "outputs": [],
   "source": [
    "# load your datasets here"
   ]
  },
  {
   "cell_type": "markdown",
   "id": "ec9da094",
   "metadata": {},
   "source": [
    "### Step 2: Reproject data to a metric CRS\n",
    "\n",
    "To measure distances correctly, reproject your data to an appropriate **UTM CRS**.\n"
   ]
  },
  {
   "cell_type": "code",
   "execution_count": null,
   "id": "f62b4c43",
   "metadata": {},
   "outputs": [],
   "source": [
    "# reproject here"
   ]
  },
  {
   "cell_type": "markdown",
   "id": "f65bc676",
   "metadata": {},
   "source": [
    "### Step 3: Create service buffer zones\n",
    "\n",
    "- Use `.buffer()` to create buffer zones around services.\n",
    "- Define the buffer distance that corresponds to 15 minutes (e.g., 1000 m).\n"
   ]
  },
  {
   "cell_type": "code",
   "execution_count": null,
   "id": "25a92836",
   "metadata": {},
   "outputs": [],
   "source": [
    "#buffer here"
   ]
  },
  {
   "cell_type": "markdown",
   "id": "1282d003",
   "metadata": {},
   "source": [
    "### Step 4: Perform a spatial join\n",
    "\n",
    "- Use `gpd.sjoin()` to identify which houses fall within the buffer zones.\n"
   ]
  },
  {
   "cell_type": "code",
   "execution_count": null,
   "id": "2ce440e5",
   "metadata": {},
   "outputs": [],
   "source": [
    "#spatial join"
   ]
  },
  {
   "cell_type": "markdown",
   "id": "a30d5951",
   "metadata": {},
   "source": [
    "### Step 5: Inspect and summarize results\n",
    "\n",
    "- Count how many houses are within reach of services.\n",
    "- Optionally, calculate proportions or group by service type.\n"
   ]
  },
  {
   "cell_type": "code",
   "execution_count": null,
   "id": "f8f451e3",
   "metadata": {},
   "outputs": [],
   "source": [
    "#summary\n"
   ]
  },
  {
   "cell_type": "markdown",
   "id": "1e0e6815",
   "metadata": {},
   "source": [
    "### Step 6: Visualize the results\n",
    "\n",
    "- Plot houses within 15 minutes of services in one color and those outside in another.\n",
    "- Overlay service buffer zones for context.\n"
   ]
  },
  {
   "cell_type": "code",
   "execution_count": null,
   "id": "45d506a0",
   "metadata": {},
   "outputs": [],
   "source": [
    "#vis"
   ]
  },
  {
   "cell_type": "markdown",
   "id": "7e7c9c3a",
   "metadata": {},
   "source": [
    "### Step 7: Explore and Reflect\n",
    "\n",
    "Ask yourself:\n",
    "\n",
    "- How many houses are within 15 minutes of services?\n",
    "- Which types of services are most accessible? Least accessible?\n",
    "- Do accessibility patterns match what you know about the city or neighborhood?\n",
    "- How might results change if you used travel time along roads instead of simple buffer distance?\n"
   ]
  }
 ],
 "metadata": {
  "language_info": {
   "name": "python"
  }
 },
 "nbformat": 4,
 "nbformat_minor": 5
}
