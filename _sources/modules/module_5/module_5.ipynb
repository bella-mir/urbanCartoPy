{
 "cells": [
  {
   "cell_type": "markdown",
   "id": "d578b114",
   "metadata": {},
   "source": [
    "# V. Rasters and Zonal Statistics\n"
   ]
  },
  {
   "cell_type": "markdown",
   "id": "19d34f76",
   "metadata": {},
   "source": [
    "## 4.Работа с растровыми данными на примере данных о населении (World Pop)\n"
   ]
  },
  {
   "cell_type": "markdown",
   "id": "9ed8692b",
   "metadata": {},
   "source": [
    "Экспортируем данные о населении для всей России (опционально, набор для работы уже лежит в директории)\n"
   ]
  },
  {
   "cell_type": "code",
   "execution_count": null,
   "id": "7d206c9d",
   "metadata": {},
   "outputs": [],
   "source": [
    "# Ссылка на данные WorldPop\n",
    "url = \"https://data.worldpop.org/GIS/Population/Global_2000_2020_Constrained/2020/BSGM/RUS/rus_ppp_2020_constrained.tif\"\n",
    "\n",
    "# Имя файла для сохранения\n",
    "output_file = \"worldpop_russia_2020.tif\"\n",
    "\n",
    "# Скачивание файла\n",
    "response = requests.get(url, stream=True)\n",
    "\n",
    "if response.status_code == 200:\n",
    "    with open(output_file, \"wb\") as file:\n",
    "        for chunk in response.iter_content(chunk_size=1024):\n",
    "            file.write(chunk)\n",
    "    print(f\"File saved as {output_file}\")\n",
    "else:\n",
    "    print(\"Failed to download file. Status code:\", response.status_code)\n"
   ]
  },
  {
   "cell_type": "markdown",
   "id": "01346e15",
   "metadata": {},
   "source": [
    "Открываем скачанный файл\n"
   ]
  },
  {
   "cell_type": "code",
   "execution_count": null,
   "id": "2ae42cc7",
   "metadata": {},
   "outputs": [],
   "source": [
    "import rasterio\n",
    "\n",
    "with rasterio.open(output_file) as dataset:\n",
    "    print(\"CRS:\", dataset.crs)\n",
    "    print(\"Bounds:\", dataset.bounds)\n",
    "    print(\"Resolution:\", dataset.res)\n"
   ]
  },
  {
   "cell_type": "markdown",
   "id": "5d08694e",
   "metadata": {},
   "source": [
    "Обрезаем данные о численности населения по границе города (area - границы вашего района в СRS - WGS84)\n"
   ]
  },
  {
   "cell_type": "code",
   "execution_count": null,
   "id": "8dacebc6",
   "metadata": {},
   "outputs": [],
   "source": [
    "from rasterio.mask import mask\n",
    "from shapely.geometry import mapping\n",
    "\n",
    "# Загрузка векторных данных\n",
    "# city_gdf = gpd.read_file(\"city_boundary.geojson\")\n",
    "city_geometry = [mapping(area.geometry.unary_union)]\n",
    "\n",
    "# Вырезание только bbox для более компактного растра\n",
    "with rasterio.open(output_file) as src:\n",
    "    # Вычисление обрезки по bbox\n",
    "    bbox = area.total_bounds  # [minx, miny, maxx, maxy]\n",
    "    window = src.window(*bbox)\n",
    "    \n",
    "    # Читаем данные в окне\n",
    "    data = src.read(window=window)\n",
    "    cropped_transform = src.window_transform(window)\n",
    "    profile = src.profile\n",
    "\n",
    "    profile.update({\n",
    "        \"height\": data.shape[1],\n",
    "        \"width\": data.shape[2],\n",
    "        \"transform\": cropped_transform\n",
    "    })\n",
    "    \n",
    "    # Сохраняем уменьшенный растр\n",
    "    with rasterio.open(\"cropped_population.tif\", \"w\", **profile) as dst:\n",
    "        dst.write(data)\n",
    "    "
   ]
  },
  {
   "cell_type": "markdown",
   "id": "857beca4",
   "metadata": {},
   "source": [
    "Получаем информацию о сохраненных данных\n"
   ]
  },
  {
   "cell_type": "code",
   "execution_count": null,
   "id": "c0fd5c10",
   "metadata": {},
   "outputs": [],
   "source": [
    "# Открытие файла\n",
    "file_path = \"final_population.tif\"\n",
    "with rasterio.open(file_path) as src:\n",
    "    # Вывод основной информации о растре\n",
    "    print(\"CRS:\", src.crs)  # Система координат\n",
    "    print(\"Bounds:\", src.bounds)  # Границы растра\n",
    "    print(\"Width, Height:\", src.width, src.height)  # Размер растра\n",
    "    print(\"Number of bands:\", src.count)  # Количество слоев\n",
    "    print(\"Data type:\", src.dtypes)  # Тип данных\n",
    "    print(\"Transform:\", src.transform)  # Аффинная трансформация\n"
   ]
  },
  {
   "cell_type": "markdown",
   "id": "a0f1199f",
   "metadata": {},
   "source": [
    "Получаем информацию о размере одного пикселя\n"
   ]
  },
  {
   "cell_type": "code",
   "execution_count": null,
   "id": "127b9d71",
   "metadata": {},
   "outputs": [],
   "source": [
    "with rasterio.open(file_path) as src:\n",
    "    transform = src.transform  # Аффинная трансформация растра\n",
    "\n",
    "    # Извлечение размеров пикселя\n",
    "    pixel_width = transform.a  # Размер пикселя по оси X\n",
    "    pixel_height = -transform.e  # Размер пикселя по оси Y (берем с минусом, так как Y направлен вниз в системе координат)\n",
    "\n",
    "    print(f\"Pixel Width: {pixel_width} units\")\n",
    "    print(f\"Pixel Height: {pixel_height} units\")\n"
   ]
  },
  {
   "cell_type": "markdown",
   "id": "f18db7a2",
   "metadata": {},
   "source": [
    "Перепроецируем растр в UTM\n"
   ]
  },
  {
   "cell_type": "code",
   "execution_count": null,
   "id": "df2d3e2e",
   "metadata": {},
   "outputs": [],
   "source": [
    "from rasterio.warp import calculate_default_transform, reproject, Resampling\n",
    "\n",
    "output_file = \"worldpop_reprojected.tif\"\n",
    "\n",
    "with rasterio.open(file_path) as src:\n",
    "    transform, width, height = calculate_default_transform(src.crs, target_crs, src.width, src.height, *src.bounds)\n",
    "    profile = src.profile\n",
    "    profile.update({\n",
    "        'crs': target_crs,\n",
    "        'transform': transform,\n",
    "        'width': width,\n",
    "        'height': height\n",
    "    })\n",
    "\n",
    "    with rasterio.open(output_file, 'w', **profile) as dst:\n",
    "        for i in range(1, src.count + 1):\n",
    "            reproject(\n",
    "                source=rasterio.band(src, i),\n",
    "                destination=rasterio.band(dst, i),\n",
    "                src_transform=src.transform,\n",
    "                src_crs=src.crs,\n",
    "                dst_transform=transform,\n",
    "                dst_crs=target_crs,\n",
    "                resampling=Resampling.nearest\n",
    "            )\n"
   ]
  },
  {
   "cell_type": "markdown",
   "id": "a182c125",
   "metadata": {},
   "source": [
    "И еще раз посмотрим на информацию о размере одного пикселя\n"
   ]
  },
  {
   "cell_type": "code",
   "execution_count": null,
   "id": "10b821c9",
   "metadata": {},
   "outputs": [],
   "source": [
    "with rasterio.open(output_file) as src:\n",
    "    transform = src.transform \n",
    "\n",
    "    # Извлечение размеров пикселя\n",
    "    pixel_width = transform.a  # Размер пикселя по оси X\n",
    "    pixel_height = -transform.e  # Размер пикселя по оси Y (берем с минусом, так как Y направлен вниз в системе координат)\n",
    "\n",
    "    print(f\"Pixel Width: {pixel_width} units\")\n",
    "    print(f\"Pixel Height: {pixel_height} units\")\n"
   ]
  },
  {
   "cell_type": "markdown",
   "id": "7e136d85",
   "metadata": {},
   "source": [
    "Извлечение данных из растра\n"
   ]
  },
  {
   "cell_type": "code",
   "execution_count": null,
   "id": "f108a251",
   "metadata": {},
   "outputs": [],
   "source": [
    "with rasterio.open(file_path) as src:\n",
    "    # Считываем первый слой (или единственный, если это однобандовый растр)\n",
    "    data = src.read(1)  # Чтение 1-го слоя\n",
    "\n",
    "    # Выводим статистику\n",
    "    print(\"Min value:\", np.min(data))\n",
    "    print(\"Max value:\", np.max(data))\n",
    "    print(\"Mean value:\", np.mean(data))\n"
   ]
  },
  {
   "cell_type": "code",
   "execution_count": null,
   "id": "ebcf248d",
   "metadata": {},
   "outputs": [],
   "source": [
    "import matplotlib.pyplot as plt\n",
    "\n",
    "with rasterio.open(output_file) as src:\n",
    "    data = src.read(1)  # Чтение 1-го слоя\n",
    "\n",
    "    plt.figure(figsize=(10, 10))\n",
    "    plt.imshow(data, cmap='viridis')  # Визуализация с использованием цветовой карты\n",
    "    plt.colorbar(label=\"Population Density\")  # Добавляем цветовую шкалу\n",
    "    plt.title(\"Population Density (WorldPop, Russia, 2020)\")\n",
    "    plt.show()\n"
   ]
  },
  {
   "cell_type": "markdown",
   "id": "fd21236b",
   "metadata": {},
   "source": [
    "## 5.Расчет плотности населения по кварталам на основе данных World Pop\n"
   ]
  },
  {
   "cell_type": "markdown",
   "id": "93eaf398",
   "metadata": {},
   "source": [
    "Зональная статистика\n"
   ]
  },
  {
   "cell_type": "code",
   "execution_count": null,
   "id": "2bca95e0",
   "metadata": {},
   "outputs": [],
   "source": [
    "import rasterstats as rs\n",
    "\n",
    "# Рассчитываем зональную статистику (сумма значений растра для каждого полигона)\n",
    "stats = rs.zonal_stats(blocks_with_buildings, output_file, stats=\"sum\", geojson_out=True)\n",
    "\n",
    "# Преобразуем результат в GeoDataFrame\n",
    "gdf_stats = gpd.GeoDataFrame.from_features(stats)\n",
    "\n",
    "# Теперь у вас есть GeoDataFrame с дополнительной колонкой, содержащей сумму значений для каждого полигона\n",
    "gdf_stats.head()\n"
   ]
  },
  {
   "cell_type": "code",
   "execution_count": null,
   "id": "8d6c34c8",
   "metadata": {},
   "outputs": [],
   "source": [
    "gdf_stats = gdf_stats.set_crs(target_crs)"
   ]
  },
  {
   "cell_type": "code",
   "execution_count": null,
   "id": "113739e6",
   "metadata": {},
   "outputs": [],
   "source": [
    "gdf_stats.explore(tiles='cartodbpositron')"
   ]
  },
  {
   "cell_type": "markdown",
   "id": "c8f9e888",
   "metadata": {},
   "source": [
    "Вычисляем плотность населения\n"
   ]
  },
  {
   "cell_type": "code",
   "execution_count": null,
   "id": "708c3edc",
   "metadata": {},
   "outputs": [],
   "source": [
    "gdf_stats['density'] = gdf_stats['sum']/(gdf_stats.geometry.area/1000000)"
   ]
  },
  {
   "cell_type": "markdown",
   "id": "372953c3",
   "metadata": {},
   "source": [
    "Смотрим на результат\n"
   ]
  },
  {
   "cell_type": "code",
   "execution_count": null,
   "id": "1b0d92c6",
   "metadata": {},
   "outputs": [],
   "source": [
    "gdf_stats.explore(column='density')"
   ]
  },
  {
   "cell_type": "markdown",
   "id": "9960531f",
   "metadata": {},
   "source": [
    "<p style=\"color:#58568E; font-style:italic\">The module is in progress</p>\n"
   ]
  }
 ],
 "metadata": {
  "language_info": {
   "name": "python"
  }
 },
 "nbformat": 4,
 "nbformat_minor": 5
}
