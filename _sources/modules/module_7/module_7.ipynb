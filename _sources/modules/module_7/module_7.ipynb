{
 "cells": [
  {
   "cell_type": "markdown",
   "id": "43d9e20f",
   "metadata": {},
   "source": [
    "# VII. Final Project: summing all together\n"
   ]
  },
  {
   "cell_type": "markdown",
   "id": "3bf2836f",
   "metadata": {},
   "source": [
    "summing all together\n"
   ]
  }
 ],
 "metadata": {
  "language_info": {
   "name": "python"
  }
 },
 "nbformat": 4,
 "nbformat_minor": 5
}
