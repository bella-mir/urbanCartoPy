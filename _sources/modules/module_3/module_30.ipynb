{
 "cells": [
  {
   "cell_type": "markdown",
   "id": "a0ff79e6",
   "metadata": {},
   "source": [
    "# III. Spatial Operations\n",
    "\n",
    "**Working with spatial data isn't just about what features exist — it's also about how they relate to each other in space.**\n",
    "\n",
    "In this module, you'll explore the core spatial operations that allow you to **analyze, combine, and compare** geographic objects based on their shapes and locations. From checking whether geometries touch or intersect, to combining data across layers using spatial joins, this part of the course gives you powerful tools for working with real-world spatial relationships.\n",
    "\n",
    "You'll also learn how to summarize spatial data by **aggregating** it by region or category — essential for creating clean, interpretable results from complex geodata.\n",
    "\n",
    "This lesson includes:\n",
    "\n",
    "1. [**Basic Instruments**](module_31.ipynb)  \n",
    "   Get hands-on with foundational geometry tools in GeoPandas, such as calculating centroids, bounding boxes, and buffers.\n",
    "\n",
    "2. [**Geometric Predicates and Spatial Joins**](module_32.ipynb)  \n",
    "   Learn how to test spatial relationships like `intersects`, `contains`, or `within`, and how to join datasets based on spatial overlap or proximity.\n",
    "\n",
    "3. [**Data Aggregation**](module_33.ipynb)  \n",
    "   Practice grouping and summarizing spatial data — for example, calculating total area or counting features within administrative boundaries.\n",
    "\n",
    "## Learning Goals\n",
    "\n",
    "**After this lesson, you should be able to:**\n",
    "\n",
    "- **Use basic geometry tools** in GeoPandas to manipulate and describe spatial features (e.g. centroids, area, bounds, buffers).\n",
    "- **Apply geometric predicates** to compare spatial objects and evaluate their spatial relationships.\n",
    "- **Perform spatial joins** to combine data based on location — for example, linking points to the polygons they fall within.\n",
    "- **Aggregate spatial data** by regions or categories using groupby operations to create summaries like total counts, average values, or summed areas.\n"
   ]
  }
 ],
 "metadata": {
  "language_info": {
   "name": "python"
  }
 },
 "nbformat": 4,
 "nbformat_minor": 5
}
